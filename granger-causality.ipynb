{
 "cells": [
  {
   "cell_type": "markdown",
   "id": "1a453fd6",
   "metadata": {},
   "source": [
    "# Simulação da Causalidade de Grager utilizando python"
   ]
  },
  {
   "cell_type": "markdown",
   "id": "f5501151",
   "metadata": {},
   "source": [
    "### Importando algumas bibliotecas"
   ]
  },
  {
   "cell_type": "code",
   "execution_count": 3,
   "id": "eedc4bec",
   "metadata": {},
   "outputs": [],
   "source": [
    "import numpy as np\n",
    "import pandas as pd\n",
    "import matplotlib.pyplot as plt\n",
    "from statsmodels.tsa.stattools import grangercausalitytests\n",
    "from statsmodels.tsa.api import VAR"
   ]
  },
  {
   "cell_type": "markdown",
   "id": "7536b854",
   "metadata": {},
   "source": [
    "\n",
    "### Testando se X \"Granger Causa\" Y"
   ]
  },
  {
   "cell_type": "code",
   "execution_count": 6,
   "id": "192d04bd",
   "metadata": {},
   "outputs": [
    {
     "name": "stdout",
     "output_type": "stream",
     "text": [
      "\n",
      "Testando se X \"Granger causa\" Y:\n",
      "\n",
      "Granger Causality\n",
      "number of lags (no zero) 1\n",
      "ssr based F test:         F=2.0059  , p=0.1583  , df_denom=196, df_num=1\n",
      "ssr based chi2 test:   chi2=2.0366  , p=0.1536  , df=1\n",
      "likelihood ratio test: chi2=2.0262  , p=0.1546  , df=1\n",
      "parameter F test:         F=2.0059  , p=0.1583  , df_denom=196, df_num=1\n",
      "\n",
      "Granger Causality\n",
      "number of lags (no zero) 2\n",
      "ssr based F test:         F=77.5078 , p=0.0000  , df_denom=193, df_num=2\n",
      "ssr based chi2 test:   chi2=159.0316, p=0.0000  , df=2\n",
      "likelihood ratio test: chi2=116.7324, p=0.0000  , df=2\n",
      "parameter F test:         F=77.5078 , p=0.0000  , df_denom=193, df_num=2\n",
      "\n",
      "Granger Causality\n",
      "number of lags (no zero) 3\n",
      "ssr based F test:         F=53.1341 , p=0.0000  , df_denom=190, df_num=3\n",
      "ssr based chi2 test:   chi2=165.2752, p=0.0000  , df=3\n",
      "likelihood ratio test: chi2=120.0125, p=0.0000  , df=3\n",
      "parameter F test:         F=53.1341 , p=0.0000  , df_denom=190, df_num=3\n",
      "  Summary of Regression Results   \n",
      "==================================\n",
      "Model:                         VAR\n",
      "Method:                        OLS\n",
      "Date:           Sun, 21, Sep, 2025\n",
      "Time:                     12:12:30\n",
      "--------------------------------------------------------------------\n",
      "No. of Equations:         2.00000    BIC:                   0.351237\n",
      "Nobs:                     197.000    HQIC:                  0.212364\n",
      "Log likelihood:          -556.676    FPE:                    1.12521\n",
      "AIC:                     0.117913    Det(Omega_mle):         1.04932\n",
      "--------------------------------------------------------------------\n",
      "Results for equation X\n",
      "========================================================================\n",
      "           coefficient       std. error           t-stat            prob\n",
      "------------------------------------------------------------------------\n",
      "const        -0.059587         0.074874           -0.796           0.426\n",
      "L1.X         -0.081010         0.072488           -1.118           0.264\n",
      "L1.Y          0.080132         0.075405            1.063           0.288\n",
      "L2.X          0.099649         0.072691            1.371           0.170\n",
      "L2.Y         -0.055704         0.056333           -0.989           0.323\n",
      "L3.X         -0.059749         0.097319           -0.614           0.539\n",
      "L3.Y         -0.049222         0.056436           -0.872           0.383\n",
      "========================================================================\n",
      "\n",
      "Results for equation Y\n",
      "========================================================================\n",
      "           coefficient       std. error           t-stat            prob\n",
      "------------------------------------------------------------------------\n",
      "const        -0.078365         0.071406           -1.097           0.272\n",
      "L1.X         -0.043052         0.069131           -0.623           0.533\n",
      "L1.Y          0.061954         0.071913            0.862           0.389\n",
      "L2.X          0.855251         0.069324           12.337           0.000\n",
      "L2.Y         -0.058236         0.053724           -1.084           0.278\n",
      "L3.X         -0.134258         0.092812           -1.447           0.148\n",
      "L3.Y         -0.058218         0.053822           -1.082           0.279\n",
      "========================================================================\n",
      "\n",
      "Correlation matrix of residuals\n",
      "            X         Y\n",
      "X    1.000000 -0.033013\n",
      "Y   -0.033013  1.000000\n",
      "\n",
      "\n",
      "\n"
     ]
    },
    {
     "name": "stderr",
     "output_type": "stream",
     "text": [
      "/home/sofia/Documents/Projetos pessoais/Pesquisa/Grager-Causality-using-Python/env/lib/python3.12/site-packages/statsmodels/tsa/stattools.py:1556: FutureWarning: verbose is deprecated since functions should not print results\n",
      "  warnings.warn(\n"
     ]
    }
   ],
   "source": [
    "n_samples = 200\n",
    "Y = np.zeros(n_samples)\n",
    "X = np.zeros(n_samples)\n",
    "for i in range(1, n_samples):\n",
    "    X[i] = np.random.normal(0, 1)\n",
    "    Y[i] = 0.95 * X[i-2] + np.random.normal(0, 1)\n",
    "\n",
    "data = pd.DataFrame({'X': X, 'Y': Y})\n",
    "max_lag = 3\n",
    "\n",
    "print('\\nTestando se X \"Granger causa\" Y:')\n",
    "grangercausalitytests(data[['Y', 'X']], maxlag=max_lag, verbose=True)\n",
    "model = VAR(data)\n",
    "result = model.fit(max_lag)\n",
    "print(result.summary())\n"
   ]
  },
  {
   "cell_type": "code",
   "execution_count": null,
   "id": "53421bbb",
   "metadata": {},
   "outputs": [],
   "source": []
  }
 ],
 "metadata": {
  "kernelspec": {
   "display_name": "env",
   "language": "python",
   "name": "python3"
  },
  "language_info": {
   "codemirror_mode": {
    "name": "ipython",
    "version": 3
   },
   "file_extension": ".py",
   "mimetype": "text/x-python",
   "name": "python",
   "nbconvert_exporter": "python",
   "pygments_lexer": "ipython3",
   "version": "3.12.7"
  }
 },
 "nbformat": 4,
 "nbformat_minor": 5
}
